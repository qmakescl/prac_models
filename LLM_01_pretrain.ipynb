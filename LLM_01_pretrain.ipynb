{
 "cells": [
  {
   "cell_type": "markdown",
   "id": "0bca21fc",
   "metadata": {},
   "source": [
    "## LLM from scratch\n",
    "\n",
    "- 원본소스 : [홍정모 연구소 youtube](https://youtu.be/osv2csoHVAo?si=hE74wbahXyvVgCTc)\n"
   ]
  },
  {
   "cell_type": "markdown",
   "id": "d0569b93",
   "metadata": {},
   "source": [
    "### 데이터 전처리\n",
    "\n",
    "여기서는 줄바꿈을 빈칸으로, 여러빈칸을 하나의 빈칸으로 변경"
   ]
  },
  {
   "cell_type": "code",
   "execution_count": 5,
   "id": "5a589412",
   "metadata": {},
   "outputs": [
    {
     "name": "stdout",
     "output_type": "stream",
     "text": [
      "'data/HP' 폴더에서 .txt 파일을 검색합니다...\n",
      "\n",
      "[성공] 발견된 .txt 파일 목록:\n",
      "data/HP/07 Harry Potter and the Deathly Hallows.txt\n",
      "data/HP/05 Harry Potter and the Order of the Phoenix.txt\n",
      "data/HP/02 Harry Potter and the Chamber of Secrets.txt\n",
      "data/HP/06 Harry Potter and the Half-Blood Prince.txt\n",
      "data/HP/03 Harry Potter and the Prisoner of Azkaban.txt\n",
      "data/HP/01 Harry Potter and the Sorcerers Stone.txt\n",
      "data/HP/04 Harry Potter and the Goblet of Fire.txt\n",
      "cleaned_07 Harry Potter and the Deathly Hallows.txt 1133063 characters\n",
      "cleaned_05 Harry Potter and the Order of the Phoenix.txt 1489734 characters\n",
      "cleaned_02 Harry Potter and the Chamber of Secrets.txt 488771 characters\n",
      "cleaned_06 Harry Potter and the Half-Blood Prince.txt 982041 characters\n",
      "cleaned_03 Harry Potter and the Prisoner of Azkaban.txt 621137 characters\n",
      "cleaned_01 Harry Potter and the Sorcerers Stone.txt 436000 characters\n",
      "cleaned_04 Harry Potter and the Goblet of Fire.txt 1093670 characters\n"
     ]
    }
   ],
   "source": [
    "import re\n",
    "from pathlib import Path\n",
    "\n",
    "data_dir = Path('./data/HP')\n",
    "data_dir.mkdir(parents=True, exist_ok=True)\n",
    "\n",
    "\n",
    "def clean_text(filename):\n",
    "    with open(filename, 'r', encoding='utf-8') as file:\n",
    "        book_text = file.read()\n",
    "\n",
    "    cleaned_text = re.sub(r'\\n+', ' ', book_text) # 줄바꿈을 빈칸으로 변경\n",
    "    cleaned_text = re.sub(r'\\s+', ' ', cleaned_text) # 여러 빈칸을 하나의 빈칸으로\n",
    "\n",
    "    base_filename = filename.name\n",
    "    print(\"cleaned_\" + base_filename, len(cleaned_text), \"characters\") # 글자 수 출력\n",
    "\n",
    "    output_path = data_dir / f\"cleaned_{base_filename}\"\n",
    "\n",
    "    with open(output_path, 'w', encoding='utf-8') as file:\n",
    "        file.write(cleaned_text)\n",
    "\n",
    "# 파일을 찾을 폴더 경로를 Path 객체로 생성\n",
    "print(f\"'{data_dir}' 폴더에서 .txt 파일을 검색합니다...\")\n",
    "\n",
    "# Path 객체의 glob 메서드를 사용하여 .txt 파일을 찾습니다.\n",
    "# 결과는 제너레이터(generator)이므로 list()로 변환해줍니다.\n",
    "try:\n",
    "    filenames_list = list(data_dir.glob('*.txt'))\n",
    "\n",
    "    # 결과 출력\n",
    "    if filenames_list:\n",
    "        print(\"\\n[성공] 발견된 .txt 파일 목록:\")\n",
    "        for file_path in filenames_list:\n",
    "            # Path 객체는 그대로 출력해도 경로가 잘 보입니다.\n",
    "            # 문자열이 필요하면 str(file_path)로 변환할 수 있습니다.\n",
    "            print(file_path)\n",
    "    else:\n",
    "        print(f\"\\n[알림] 해당 경로에 .txt 파일이 없습니다: {data_dir}\")\n",
    "\n",
    "except FileNotFoundError:\n",
    "    print(f\"\\n[오류] 폴더를 찾을 수 없습니다: {data_dir}\")\n",
    "\n",
    "# filenames_list = [\"02 Harry Potter and the Chamber of Secrets.txt\"]\n",
    "\n",
    "for filename in filenames_list:\n",
    "    clean_text(filename)"
   ]
  },
  {
   "cell_type": "markdown",
   "id": "8a498883",
   "metadata": {},
   "source": [
    "### 토큰화\n",
    "UTF-8 Byte Pair Encoding(BPE)를 이용"
   ]
  },
  {
   "cell_type": "code",
   "execution_count": 7,
   "id": "2e5f51d0",
   "metadata": {},
   "outputs": [
    {
     "name": "stdout",
     "output_type": "stream",
     "text": [
      "글자수: 38 토큰수 13\n",
      "[17250, 0, 1374, 389, 345, 30, 314, 716, 3734, 13, 6952, 345, 13]\n",
      "Hi! How are you? I am fine. Thank you.\n",
      "17250\t -> Hi\n",
      "0\t -> !\n",
      "1374\t ->  How\n",
      "389\t ->  are\n",
      "345\t ->  you\n",
      "30\t -> ?\n",
      "314\t ->  I\n",
      "716\t ->  am\n",
      "3734\t ->  fine\n",
      "13\t -> .\n",
      "6952\t ->  Thank\n",
      "345\t ->  you\n",
      "13\t -> .\n"
     ]
    }
   ],
   "source": [
    "# 토큰화 예제\n",
    "import tiktoken\n",
    "\n",
    "tokenizer = tiktoken.get_encoding(\"gpt2\")\n",
    "\n",
    "text = \"Hi! How are you? I am fine. Thank you.\"\n",
    "\n",
    "tokens = tokenizer.encode(text)\n",
    "\n",
    "print(\"글자수:\", len(text), \"토큰수\", len(tokens))\n",
    "print(tokens)\n",
    "print(tokenizer.decode(tokens))\n",
    "for t in tokens:\n",
    "    print(f\"{t}\\t -> {tokenizer.decode([t])}\")"
   ]
  },
  {
   "cell_type": "code",
   "execution_count": 10,
   "id": "c257be5b",
   "metadata": {},
   "outputs": [
    {
     "name": "stdout",
     "output_type": "stream",
     "text": [
      "글자수: 40 토큰수 20\n",
      "[3801, 1130, 5847, 362, 1353, 9158, 853, 25759, 392, 1229, 657, 1353, 9158, 853, 773, 50747, 375, 3365, 14010, 375]\n",
      "안녕하세요! 잘 지내고 계신가요? 저는 잘 지내고 있습니다. 감사합니다.\n",
      "3801\t -> 안녕\n",
      "1130\t -> 하\n",
      "5847\t -> 세요\n",
      "362\t -> !\n",
      "1353\t ->  잘\n",
      "9158\t ->  지내\n",
      "853\t -> 고\n",
      "25759\t ->  계신가요\n",
      "392\t -> ?\n",
      "1229\t ->  저\n",
      "657\t -> 는\n",
      "1353\t ->  잘\n",
      "9158\t ->  지내\n",
      "853\t -> 고\n",
      "773\t ->  있\n",
      "50747\t -> 습니다\n",
      "375\t -> .\n",
      "3365\t ->  감사\n",
      "14010\t -> 합니다\n",
      "375\t -> .\n"
     ]
    }
   ],
   "source": [
    "# 한글 예제\n",
    "from transformers import AutoTokenizer\n",
    "\n",
    "#tokenizer = AutoTokenizer.from_pretrained(\"skt/kogpt2-base-v2\")\n",
    "tokenizer = AutoTokenizer.from_pretrained(\"LGAI-EXAONE/EXAONE-3.5-7.8B-Instruct\")\n",
    "\n",
    "text = \"안녕하세요! 잘 지내고 계신가요? 저는 잘 지내고 있습니다. 감사합니다.\"\n",
    "\n",
    "tokens = tokenizer.encode(text)\n",
    "\n",
    "print(\"글자수:\", len(text), \"토큰수\", len(tokens))\n",
    "print(tokens)\n",
    "print(tokenizer.decode(tokens))\n",
    "for t in tokens:\n",
    "    print(f\"{t}\\t -> {tokenizer.decode([t])}\")\n"
   ]
  },
  {
   "cell_type": "markdown",
   "id": "52c1f2d9",
   "metadata": {},
   "source": [
    "### 데이터 로더\n",
    "\n",
    "pytorch 의 기능 이용"
   ]
  },
  {
   "cell_type": "code",
   "execution_count": 18,
   "id": "d8236e6f",
   "metadata": {},
   "outputs": [
    {
     "name": "stdout",
     "output_type": "stream",
     "text": [
      "읽는 중: cleaned_01 Harry Potter and the Sorcerers Stone.txt\n",
      "읽는 중: cleaned_02 Harry Potter and the Chamber of Secrets.txt\n",
      "읽는 중: cleaned_03 Harry Potter and the Prisoner of Azkaban.txt\n",
      "읽는 중: cleaned_04 Harry Potter and the Goblet of Fire.txt\n",
      "읽는 중: cleaned_05 Harry Potter and the Order of the Phoenix.txt\n",
      "읽는 중: cleaned_06 Harry Potter and the Half-Blood Prince.txt\n",
      "읽는 중: cleaned_07 Harry Potter and the Deathly Hallows.txt\n",
      "# of tokens in txt: 1558407\n"
     ]
    }
   ],
   "source": [
    "# 데이터 로더 예제\n",
    "import torch\n",
    "from torch.utils.data import Dataset, DataLoader\n",
    "\n",
    "class MyDataset(Dataset):\n",
    "    def __init__(self, txt, max_length, stride):\n",
    "        self.input_ids = []\n",
    "        self.target_ids = []\n",
    "\n",
    "        # token_ids = tokenizer.encode(\"<|endoftext|>\" + txt, allowed_special={\"<|endoftext|>\"})\n",
    "        token_ids = tokenizer.encode(txt)\n",
    "\n",
    "        print(\"# of tokens in txt:\", len(token_ids))\n",
    "\n",
    "        # input 과 target 생성 \n",
    "        for i in range(0, len(token_ids) - max_length, stride):\n",
    "            # target 에 는 다음 토큰을 포함하기 위해 i+1 -> 훈련시 바로 다음 단어를 예측하도록 하기 위해\n",
    "            # input_chunk 는 max_length 길이로 자르고, target_chunk 는 input_chunk 다음 토큰부터 시작\n",
    "            # stride 만큼 이동하면서 반복\n",
    "            input_chunk = token_ids[i:i + max_length]\n",
    "            target_chunk = token_ids[i + 1: i + max_length + 1]\n",
    "            self.input_ids.append(torch.tensor(input_chunk))\n",
    "            self.target_ids.append(torch.tensor(target_chunk))\n",
    "\n",
    "    def __len__(self):\n",
    "        return len(self.input_ids)\n",
    "\n",
    "    def __getitem__(self, idx):\n",
    "        return self.input_ids[idx], self.target_ids[idx]\n",
    "    \n",
    "# with open(\"cleaned_한글문서.txt\", 'r', encoding='utf-8-sig') as file: # 선택: -sig를 붙여서 BOM 제거\n",
    "with open(\"./data/HP/cleaned_02 Harry Potter and the Chamber of Secrets.txt\", 'r', encoding='utf-8-sig') as file: # 선택: -sig를 붙여서 BOM 제거\n",
    "    txt = file.read()\n",
    "\n",
    "\n",
    "cleaned_txt_files = sorted(data_dir.glob('cleaned_*.txt'))\n",
    "all_texts = \"\"\n",
    "\n",
    "for file_path in cleaned_txt_files:\n",
    "    print(f\"읽는 중: {file_path.name}\")\n",
    "    try:\n",
    "        # pathlib의 .read_text()를 사용하면 파일을 열고, 읽고, 닫는 과정을 한번에 처리합니다.\n",
    "        # 'utf-8-sig' 인코딩은 파일 시작 부분의 보이지 않는 BOM(Byte Order Mark)을 자동으로 처리해줍니다.\n",
    "        content = file_path.read_text(encoding='utf-8-sig')\n",
    "        all_texts += content + \" \"\n",
    "    except FileNotFoundError:\n",
    "        print(f\"[경고] 파일을 찾을 수 없습니다: {file_path}\")\n",
    "    except Exception as e:\n",
    "        print(f\"[오류] 파일을 읽는 중 문제가 발생했습니다: {file_path}, {e}\")\n",
    "\n",
    "dataset = MyDataset(all_texts, max_length = 32, stride = 4)\n",
    "\n",
    "train_loader = DataLoader(dataset, batch_size=128, shuffle=True, drop_last=True)\n"
   ]
  },
  {
   "cell_type": "code",
   "execution_count": 24,
   "id": "e4484a5c",
   "metadata": {},
   "outputs": [
    {
     "name": "stdout",
     "output_type": "stream",
     "text": [
      " Death Eaters seem to be a bit more active than usual lately. They showed themselves at the Quidditch World Cup, didn't they? Someone set\n",
      " Eaters seem to be a bit more active than usual lately. They showed themselves at the Quidditch World Cup, didn't they? Someone set off\n"
     ]
    }
   ],
   "source": [
    "# Dataloader 로 만든 내용 확인\n",
    "# output이 하나씩 밀려있음\n",
    "dataiter = iter(train_loader)\n",
    "\n",
    "x, y = next(dataiter)\n",
    "\n",
    "print(tokenizer.decode(x[0].tolist()))\n",
    "print(tokenizer.decode(y[0].tolist()))"
   ]
  }
 ],
 "metadata": {
  "kernelspec": {
   "display_name": "QWorks_tf",
   "language": "python",
   "name": "python3"
  },
  "language_info": {
   "codemirror_mode": {
    "name": "ipython",
    "version": 3
   },
   "file_extension": ".py",
   "mimetype": "text/x-python",
   "name": "python",
   "nbconvert_exporter": "python",
   "pygments_lexer": "ipython3",
   "version": "3.9.23"
  }
 },
 "nbformat": 4,
 "nbformat_minor": 5
}
